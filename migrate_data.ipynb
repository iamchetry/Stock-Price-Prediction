{
  "nbformat": 4,
  "nbformat_minor": 0,
  "metadata": {
    "colab": {
      "name": "migrate_data.ipynb",
      "provenance": [],
      "collapsed_sections": [],
      "authorship_tag": "ABX9TyOX5V3082fOOErCDJ0wYYXz",
      "include_colab_link": true
    },
    "kernelspec": {
      "name": "python3",
      "display_name": "Python 3"
    },
    "language_info": {
      "name": "python"
    }
  },
  "cells": [
    {
      "cell_type": "markdown",
      "metadata": {
        "id": "view-in-github",
        "colab_type": "text"
      },
      "source": [
        "<a href=\"https://colab.research.google.com/github/iamchetry/Stock-Price-Prediction/blob/main/migrate_data.ipynb\" target=\"_parent\"><img src=\"https://colab.research.google.com/assets/colab-badge.svg\" alt=\"Open In Colab\"/></a>"
      ]
    },
    {
      "cell_type": "code",
      "metadata": {
        "colab": {
          "base_uri": "https://localhost:8080/"
        },
        "id": "a5cQWQMdtUqf",
        "outputId": "80c0952f-51a7-4bd6-ecc8-818c2fc1dedc"
      },
      "source": [
        "!pip install yfinance\n",
        "\n",
        "import yfinance as yf\n",
        "import datetime\n",
        "import pandas as pd\n",
        "import pytz\n",
        "from google.cloud import bigquery\n",
        "from google.colab import drive\n",
        "import os\n",
        "drive.mount('/content/drive')\n",
        "\n",
        "os.environ['GOOGLE_APPLICATION_CREDENTIALS'] = '/content/drive/My Drive/stock-data-analysis-cse560-b3fc65360aa2.json'"
      ],
      "execution_count": 29,
      "outputs": [
        {
          "output_type": "stream",
          "name": "stdout",
          "text": [
            "Requirement already satisfied: yfinance in /usr/local/lib/python3.7/dist-packages (0.1.63)\n",
            "Requirement already satisfied: lxml>=4.5.1 in /usr/local/lib/python3.7/dist-packages (from yfinance) (4.6.3)\n",
            "Requirement already satisfied: requests>=2.20 in /usr/local/lib/python3.7/dist-packages (from yfinance) (2.23.0)\n",
            "Requirement already satisfied: pandas>=0.24 in /usr/local/lib/python3.7/dist-packages (from yfinance) (1.1.5)\n",
            "Requirement already satisfied: numpy>=1.15 in /usr/local/lib/python3.7/dist-packages (from yfinance) (1.19.5)\n",
            "Requirement already satisfied: multitasking>=0.0.7 in /usr/local/lib/python3.7/dist-packages (from yfinance) (0.0.9)\n",
            "Requirement already satisfied: pytz>=2017.2 in /usr/local/lib/python3.7/dist-packages (from pandas>=0.24->yfinance) (2018.9)\n",
            "Requirement already satisfied: python-dateutil>=2.7.3 in /usr/local/lib/python3.7/dist-packages (from pandas>=0.24->yfinance) (2.8.2)\n",
            "Requirement already satisfied: six>=1.5 in /usr/local/lib/python3.7/dist-packages (from python-dateutil>=2.7.3->pandas>=0.24->yfinance) (1.15.0)\n",
            "Requirement already satisfied: chardet<4,>=3.0.2 in /usr/local/lib/python3.7/dist-packages (from requests>=2.20->yfinance) (3.0.4)\n",
            "Requirement already satisfied: idna<3,>=2.5 in /usr/local/lib/python3.7/dist-packages (from requests>=2.20->yfinance) (2.10)\n",
            "Requirement already satisfied: urllib3!=1.25.0,!=1.25.1,<1.26,>=1.21.1 in /usr/local/lib/python3.7/dist-packages (from requests>=2.20->yfinance) (1.24.3)\n",
            "Requirement already satisfied: certifi>=2017.4.17 in /usr/local/lib/python3.7/dist-packages (from requests>=2.20->yfinance) (2021.5.30)\n",
            "Drive already mounted at /content/drive; to attempt to forcibly remount, call drive.mount(\"/content/drive\", force_remount=True).\n"
          ]
        }
      ]
    },
    {
      "cell_type": "code",
      "metadata": {
        "id": "iGgSL-GOveCn"
      },
      "source": [
        "# Fetch stock data from Yahoo Finance\n",
        "symbols = ['MSFT', 'GOOGL']\n",
        "data_ = list()\n",
        "\n",
        "for symbol in symbols:\n",
        "    msft = yf.Ticker(symbol)\n",
        "    df_hist = msft.history(period='max')\n",
        "    df_hist.reset_index(level=0, inplace=True)\n",
        "    df_hist.insert(0, \"Symbol\", symbol, True)\n",
        "    df_hist.insert(0, \"Market\", 'NYSE', True)\n",
        "    data_.append(df_hist)\n",
        "\n",
        "data_ = pd.concat(data_, ignore_index=True, axis=0, sort=True)\n",
        "data_ = data_[['Market', 'Symbol', 'Date', 'Open', 'High', 'Low', 'Close', 'Volume', 'Dividends', 'Stock Splits']].rename(columns={'Stock Splits': 'Stock_Splits'})"
      ],
      "execution_count": 30,
      "outputs": []
    },
    {
      "cell_type": "code",
      "metadata": {
        "colab": {
          "base_uri": "https://localhost:8080/"
        },
        "id": "tiAlRVCYC3mT",
        "outputId": "2aa5d1cf-a8bc-4495-9d2e-f289d1e1f45c"
      },
      "source": [
        "# Construct a BigQuery client object.\n",
        "client = bigquery.Client()\n",
        "\n",
        "# TODO(developer): Set table_id to the ID of the table to create.\n",
        "table_id = 'stock-data-analysis-cse560.StockInfoDatabase.stock_history'\n",
        "\n",
        "records = data_.to_dict(orient='records')\n",
        "\n",
        "dataframe = pandas.DataFrame(\n",
        "    records,\n",
        "    # In the loaded table, the column order reflects the order of the\n",
        "    # columns in the DataFrame.\n",
        "    columns=list(data_.columns),\n",
        "    # Optionally, set a named index, which can also be written to the\n",
        "    # BigQuery table.\n",
        "    index=pandas.Index(range(len(data_)), name='stock_ohlcv_data'\n",
        "    ),\n",
        ")\n",
        "\n",
        "job_config = bigquery.LoadJobConfig(\n",
        "    # Specify a (partial) schema. All columns are always written to the\n",
        "    # table. The schema is used to assist in data type definitions.\n",
        "    schema=[\n",
        "        bigquery.SchemaField('Market', bigquery.enums.SqlTypeNames.STRING),\n",
        "        bigquery.SchemaField('Symbol', bigquery.enums.SqlTypeNames.STRING),\n",
        "        bigquery.SchemaField('stock_ohlcv_data', bigquery.enums.SqlTypeNames.INTEGER),\n",
        "    ],\n",
        "    # Optionally, set the write disposition. BigQuery appends loaded rows\n",
        "    # to an existing table by default, but with WRITE_TRUNCATE write\n",
        "    # disposition it replaces the table with the loaded data.\n",
        "    write_disposition='WRITE_TRUNCATE',\n",
        ")\n",
        "\n",
        "job = client.load_table_from_dataframe(\n",
        "    dataframe, table_id, job_config=job_config\n",
        ")  # Make an API request.\n",
        "job.result()  # Wait for the job to complete.\n",
        "\n",
        "table = client.get_table(table_id)  # Make an API request.\n",
        "print(\n",
        "    'Loaded {} rows and {} columns to {}'.format(\n",
        "        table.num_rows, len(table.schema), table_id\n",
        "    )\n",
        ")"
      ],
      "execution_count": 31,
      "outputs": [
        {
          "output_type": "stream",
          "name": "stdout",
          "text": [
            "Loaded 13284 rows and 11 columns to stock-data-analysis-cse560.StockInfoDatabase.stock_history\n"
          ]
        }
      ]
    },
    {
      "cell_type": "code",
      "metadata": {
        "id": "qNW_FZUMTpGn"
      },
      "source": [
        ""
      ],
      "execution_count": null,
      "outputs": []
    }
  ]
}